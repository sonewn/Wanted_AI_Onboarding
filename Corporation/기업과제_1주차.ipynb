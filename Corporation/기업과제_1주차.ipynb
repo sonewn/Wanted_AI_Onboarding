{
  "nbformat": 4,
  "nbformat_minor": 0,
  "metadata": {
    "colab": {
      "name": "기업과제_1주차.ipynb",
      "provenance": [],
      "authorship_tag": "ABX9TyOYK//j4IL1XPoTNFLhSTJM",
      "include_colab_link": true
    },
    "kernelspec": {
      "name": "python3",
      "display_name": "Python 3"
    },
    "language_info": {
      "name": "python"
    }
  },
  "cells": [
    {
      "cell_type": "markdown",
      "metadata": {
        "id": "view-in-github",
        "colab_type": "text"
      },
      "source": [
        "<a href=\"https://colab.research.google.com/github/sonewn/Wanted_AI_Onboarding/blob/main/%EA%B8%B0%EC%97%85%EA%B3%BC%EC%A0%9C_1%EC%A3%BC%EC%B0%A8.ipynb\" target=\"_parent\"><img src=\"https://colab.research.google.com/assets/colab-badge.svg\" alt=\"Open In Colab\"/></a>"
      ]
    },
    {
      "cell_type": "code",
      "execution_count": null,
      "metadata": {
        "id": "TPgMaBmn5dZY"
      },
      "outputs": [],
      "source": [
        "import pandas as pd\n",
        "import numpy as np"
      ]
    },
    {
      "cell_type": "markdown",
      "source": [
        "# 문자열 매칭 Class\n"
      ],
      "metadata": {
        "id": "4F2__ITw6PVZ"
      }
    },
    {
      "cell_type": "code",
      "source": [
        "class str_matching():\n",
        "    def __init__(self, input):\n",
        "        self.inlst = input.split('\\n') # 집합원소 수 저장\n",
        "        self.setno = 0 \n",
        "        self.setelement = []\n",
        "        self.targetno = 0\n",
        "        self.targetlst = []\n",
        "        self.match = {'00':0}\n",
        "\n",
        "    def setdata(self):\n",
        "      '''\n",
        "      함수 실행에 필요한 data를 set하는 함수\n",
        "      '''\n",
        "        self.inlst = [i for i in self.inlst if i != ''] # 입력방식 예외 제거\n",
        "        self.setno = int(self.inlst[0]) # 집합원소 수 저장\n",
        "        self.setelement = self.inlst[1:1+self.setno] # 집합 원소 slicing\n",
        "        self.targetno = int(self.inlst[self.setno+1]) # 판별 대상 문자열 수 저장\n",
        "        self.targetlst = self.inlst[-self.targetno:] # 판별 대상 list 저장\n",
        "\n",
        "\n",
        "    def isinbool(self):\n",
        "      '''\n",
        "      패턴 match bool 를 보여주는 함수\n",
        "      '''\n",
        "        self.setdata()\n",
        "        print('Is it in target?\\n')\n",
        "        for seq, t in enumerate(self.targetlst):\n",
        "            matchlst = []\n",
        "            print(f'target {seq+1} \\n========')\n",
        "            for e in self.setelement:\n",
        "                if e in t:\n",
        "                    matchlst.append(e) # match 하는 element를 matchlst 에 저장 \n",
        "                    print('YES')\n",
        "                else:\n",
        "                    print('No')\n",
        "            self.match[t] = matchlst\n",
        "\n",
        "\n",
        "\n",
        "    def firstmatch(self):\n",
        "      '''\n",
        "      패턴의 첫 번째 match 를 보여주는 함수\n",
        "      '''\n",
        "        self.isinbool()\n",
        "        print('\\nFist matched!')\n",
        "        for seq, t in enumerate(self.targetlst):\n",
        "            print(f'target {seq+1} \\n========')\n",
        "            for pat in self.match[t]:\n",
        "                pos = t.find(pat)\n",
        "                print(f'pos = {pos}, pattern = {pat}')\n",
        "\n",
        "\n",
        "    def allmatch(self):\n",
        "      '''\n",
        "      패턴의 모든 match 를 보여주는 함수\n",
        "      '''\n",
        "        print('\\nAll matched!')\n",
        "        for seq, t in enumerate(self.targetlst):\n",
        "            print(f'target {seq+1} \\n========')\n",
        "            for pat in self.match[t]:\n",
        "                pos = t.find(pat)                          # <-- match 하는 element의 index를 pos 에 저장\n",
        "                print(f'pos = {pos}, pattern = {pat}')\n",
        "                while t[pos+1:].find(pat) != -1:           # <-- pos+1 부터 인덱싱하여 element가 없을 때 까지 반복\n",
        "                    pos = t[pos+1:].find(pat) + pos + 1    # <-- 다음 element index로 기존 pos를 업데이트\n",
        "                    print(f'pos = {pos}, pattern = {pat}')\n",
        "\n",
        "    \n",
        "    def printall(self):\n",
        "      '''\n",
        "      문자열 매칭 모든 기능 print 하는 함수\n",
        "      '''\n",
        "        self.firstmatch()  # firstmatch 를 호출하면 setdata, isinbool 이 먼저 호출\n",
        "        self.allmatch()  # firstmatch 호출 뒤 allmatch 호출 \n",
        "\n",
        "\n",
        "\n",
        "        "
      ],
      "metadata": {
        "id": "eYcRFwg66PEc"
      },
      "execution_count": null,
      "outputs": []
    },
    {
      "cell_type": "code",
      "source": [
        "# input : 집합 S 크기(1줄), S 원소(N줄), 판별 대상 문자열 개수(1줄), 판별 대상 문자열(Q줄)  \n",
        "\n",
        "input = '''9\n",
        "aaa\n",
        "aaaabb\n",
        "aabbcc\n",
        "abb\n",
        "bcc\n",
        "bbcc\n",
        "aabbccdd\n",
        "aaabb\n",
        "cccd\n",
        "2\n",
        "aaaabbaabbccdd\n",
        "aaabbaabbcccdd'''"
      ],
      "metadata": {
        "id": "y5ESO4Rk6Fer"
      },
      "execution_count": null,
      "outputs": []
    },
    {
      "cell_type": "code",
      "source": [
        "input2 = '''\n",
        "9\n",
        "aaa\n",
        "aaaabb\n",
        "aabbcc\n",
        "abb\n",
        "bcc\n",
        "bbcc\n",
        "aabbccdd\n",
        "aaabb\n",
        "cccd\n",
        "1\n",
        "aaaabbaabbccdd\n",
        "'''"
      ],
      "metadata": {
        "id": "5Gnk49HO54U7"
      },
      "execution_count": null,
      "outputs": []
    },
    {
      "cell_type": "code",
      "source": [
        "# target이 하나인 경우 test\n",
        "cl = str_matching(input2)\n",
        "cl.printall()"
      ],
      "metadata": {
        "colab": {
          "base_uri": "https://localhost:8080/"
        },
        "id": "bFDXNmEB1C6u",
        "outputId": "5af2b949-7e51-4d5f-edb0-29cd851b4646"
      },
      "execution_count": null,
      "outputs": [
        {
          "output_type": "stream",
          "name": "stdout",
          "text": [
            "Is it in target?\n",
            "\n",
            "target 1 \n",
            "========\n",
            "YES\n",
            "YES\n",
            "YES\n",
            "YES\n",
            "YES\n",
            "YES\n",
            "YES\n",
            "YES\n",
            "No\n",
            "\n",
            "Fist matched!\n",
            "target 1 \n",
            "========\n",
            "pos = 0, pattern = aaa\n",
            "pos = 0, pattern = aaaabb\n",
            "pos = 6, pattern = aabbcc\n",
            "pos = 3, pattern = abb\n",
            "pos = 9, pattern = bcc\n",
            "pos = 8, pattern = bbcc\n",
            "pos = 6, pattern = aabbccdd\n",
            "pos = 1, pattern = aaabb\n",
            "\n",
            "All matched!\n",
            "target 1 \n",
            "========\n",
            "pos = 0, pattern = aaa\n",
            "pos = 1, pattern = aaa\n",
            "pos = 0, pattern = aaaabb\n",
            "pos = 6, pattern = aabbcc\n",
            "pos = 3, pattern = abb\n",
            "pos = 7, pattern = abb\n",
            "pos = 9, pattern = bcc\n",
            "pos = 8, pattern = bbcc\n",
            "pos = 6, pattern = aabbccdd\n",
            "pos = 1, pattern = aaabb\n"
          ]
        }
      ]
    },
    {
      "cell_type": "code",
      "source": [
        "# target 이 2개 인 경우 test\n",
        "cl = str_matching(input)\n",
        "cl.printall()"
      ],
      "metadata": {
        "colab": {
          "base_uri": "https://localhost:8080/"
        },
        "id": "UT2urrwyUfGK",
        "outputId": "21cc88ad-8fbd-4ad1-ce36-ad45523ecf7e"
      },
      "execution_count": null,
      "outputs": [
        {
          "output_type": "stream",
          "name": "stdout",
          "text": [
            "Is it in target?\n",
            "\n",
            "target 1 \n",
            "========\n",
            "YES\n",
            "YES\n",
            "YES\n",
            "YES\n",
            "YES\n",
            "YES\n",
            "YES\n",
            "YES\n",
            "No\n",
            "target 2 \n",
            "========\n",
            "YES\n",
            "No\n",
            "YES\n",
            "YES\n",
            "YES\n",
            "YES\n",
            "No\n",
            "YES\n",
            "YES\n",
            "\n",
            "Fist matched!\n",
            "target 1 \n",
            "========\n",
            "pos = 0, pattern = aaa\n",
            "pos = 0, pattern = aaaabb\n",
            "pos = 6, pattern = aabbcc\n",
            "pos = 3, pattern = abb\n",
            "pos = 9, pattern = bcc\n",
            "pos = 8, pattern = bbcc\n",
            "pos = 6, pattern = aabbccdd\n",
            "pos = 1, pattern = aaabb\n",
            "target 2 \n",
            "========\n",
            "pos = 0, pattern = aaa\n",
            "pos = 5, pattern = aabbcc\n",
            "pos = 2, pattern = abb\n",
            "pos = 8, pattern = bcc\n",
            "pos = 7, pattern = bbcc\n",
            "pos = 0, pattern = aaabb\n",
            "pos = 9, pattern = cccd\n",
            "\n",
            "All matched!\n",
            "target 1 \n",
            "========\n",
            "pos = 0, pattern = aaa\n",
            "pos = 1, pattern = aaa\n",
            "pos = 0, pattern = aaaabb\n",
            "pos = 6, pattern = aabbcc\n",
            "pos = 3, pattern = abb\n",
            "pos = 7, pattern = abb\n",
            "pos = 9, pattern = bcc\n",
            "pos = 8, pattern = bbcc\n",
            "pos = 6, pattern = aabbccdd\n",
            "pos = 1, pattern = aaabb\n",
            "target 2 \n",
            "========\n",
            "pos = 0, pattern = aaa\n",
            "pos = 5, pattern = aabbcc\n",
            "pos = 2, pattern = abb\n",
            "pos = 6, pattern = abb\n",
            "pos = 8, pattern = bcc\n",
            "pos = 7, pattern = bbcc\n",
            "pos = 0, pattern = aaabb\n",
            "pos = 9, pattern = cccd\n"
          ]
        }
      ]
    }
  ]
}
